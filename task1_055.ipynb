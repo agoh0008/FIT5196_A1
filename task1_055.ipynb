{
 "cells": [
  {
   "cell_type": "markdown",
   "metadata": {
    "id": "QCbAmQ47iqK4"
   },
   "source": [
    "<div class=\"alert alert-block alert-success\">\n",
    "    \n",
    "# **FIT5196 Task 1 - Assessment 1**\n",
    "#### Student Name: Alexandra Goh & Sothearith Tith\n",
    "#### Student ID: 29796431 & 27208001\n",
    "\n",
    "Date: 19th April 2024\n",
    "\n",
    "\n",
    "Environment: Python 3.10.12\n",
    "\n",
    "Libraries used:\n",
    "* re (for regular expression, installed and imported)\n",
    "* json (for serialization of Python data structures into JSON format, installed and imported)\n",
    "    \n",
    "</div>"
   ]
  },
  {
   "cell_type": "markdown",
   "metadata": {
    "id": "IjBFqYK4iqK5"
   },
   "source": [
    "<div class=\"alert alert-block alert-info\">\n",
    "\n",
    "## **Table of Contents**\n",
    "\n",
    "</div>    \n",
    "\n",
    "[1. Introduction](#Intro) <br>\n",
    "[2. Importing Libraries](#libs) <br>\n",
    "[3. Examining Raw Data](#examine) <br>\n",
    "[4. Loading and Parsing Files](#load) <br>\n",
    "$\\;\\;\\;\\;$[4.1. Reading Files](#Read) <br>\n",
    "$\\;\\;\\;\\;$[4.2. Standardizing Party Names and Country Identifiers](#Reg_Exp) <br>\n",
    "$\\;\\;\\;\\;\\;$[4.2.1. Removal of Titles for Individuals](#Title_Removal) <br>\n",
    "$\\;\\;\\;\\;\\;$[4.2.2. States Definition](#states) <br>\n",
    "$\\;\\;\\;\\;$[4.3. Processing Trademark Assignment Data](#process) <br>\n",
    "$\\;\\;\\;\\;\\;$[4.3.1. Extraction of Assignor & Assignee Information](#assignors_assignees) <br>\n",
    "$\\;\\;\\;\\;\\;$[4.3.2. Extraction of Unique IDs & Remaining Assignment Entry Info](#unique_id) <br>\n",
    "$\\;\\;\\;\\;\\;$[4.3.3. Application to Input File](#apply) <br>\n",
    "[5. Writing to JSON File](#write) <br>\n",
    "$\\;\\;\\;\\;$[5.1. Saving Extracted Data to JSON File](#save) <br>\n",
    "$\\;\\;\\;\\;$[5.2. Verification - using the sample files](#test_xml) <br>\n",
    "[6. Summary](#summary) <br>\n",
    "[7. References](#Ref) <br>\n",
    "[8. Appendix](#appendix) <br>\n",
    "$\\;\\;\\;\\;$[8.1. Counting Extracted Assignment Entries](#count) <br>\n",
    "$\\;\\;\\;\\;$[8.2. Extracting Unique Countries (Assignors)](#assignor_countries) <br>\n",
    "$\\;\\;\\;\\;$[8.3. Extracting Unique Countries (Assignees)](#assignee_countries) <br>"
   ]
  },
  {
   "cell_type": "markdown",
   "metadata": {
    "id": "AcbqK3KliqK6"
   },
   "source": [
    "-------------------------------------"
   ]
  },
  {
   "cell_type": "markdown",
   "metadata": {
    "id": "pEFdSCIUiqK6"
   },
   "source": [
    "<div class=\"alert alert-block alert-warning\">\n",
    "\n",
    "## **1.  Introduction**  <a class=\"anchor\" name=\"Intro\"></a>\n",
    "    \n",
    "</div>\n"
   ]
  },
  {
   "cell_type": "markdown",
   "metadata": {
    "id": "cGg4-8VSiqK6"
   },
   "source": [
    "\n",
    "This report presents the findings of a data wrangling task focused on parsing raw text files and analyzing textual data to extract and transform semi-structured text data into a structured format. Specifically, the task involves processing a subset of records related to trademark assignments stored in a single `.txt` file.\n",
    "\n",
    "<br>\n",
    "\n",
    "The primary objective of this assessment is to extract relevant information from the trademark assignment records and organize it into a structured format, adhering to a predefined set of elements specified in the assignment brief. Each trademark assignment record contains various attributes such as reel number, frame number, assignors, assignees, and additional metadata. Through techniques such as parsing raw text files, regular expression pattern matching, and text parsing, the extracted data will be transformed into JSON format, facilitating further analysis and exploration of the dataset."
   ]
  },
  {
   "cell_type": "markdown",
   "metadata": {
    "id": "p6Ql-W6BiqK7"
   },
   "source": [
    "-------------------------------------"
   ]
  },
  {
   "cell_type": "markdown",
   "metadata": {
    "id": "hnctlBF6iqK7"
   },
   "source": [
    "<div class=\"alert alert-block alert-warning\">\n",
    "    \n",
    "## **2.  Importing Libraries**  <a class=\"anchor\" name=\"libs\"></a>\n",
    " </div>"
   ]
  },
  {
   "cell_type": "markdown",
   "metadata": {
    "id": "dQOLlwmAiqK7"
   },
   "source": [
    "The packages imported for this assessment serve specific tasks as follows:\n",
    "* **re:** to define and apply regular expressions, enabling the parsing and manipulation of textual data.\n",
    "* **json:** to facilitate the transformation of extracted data into JSON format."
   ]
  },
  {
   "cell_type": "code",
   "execution_count": 17,
   "metadata": {
    "id": "mKGO6FAXiqK7"
   },
   "outputs": [],
   "source": [
    "import re\n",
    "import json"
   ]
  },
  {
   "cell_type": "code",
   "execution_count": 18,
   "metadata": {
    "colab": {
     "base_uri": "https://localhost:8080/"
    },
    "id": "wMWqFiW4jewp",
    "outputId": "c387dc36-a404-41f0-82ce-a1dfb7c22e2d"
   },
   "outputs": [
    {
     "name": "stdout",
     "output_type": "stream",
     "text": [
      "Drive already mounted at /content/drive; to attempt to forcibly remount, call drive.mount(\"/content/drive\", force_remount=True).\n"
     ]
    }
   ],
   "source": [
    "from google.colab import drive\n",
    "drive.mount('/content/drive')"
   ]
  },
  {
   "cell_type": "markdown",
   "metadata": {
    "id": "xGg45xNzISHI"
   },
   "source": [
    "The python version used is as below:"
   ]
  },
  {
   "cell_type": "code",
   "execution_count": 19,
   "metadata": {
    "colab": {
     "base_uri": "https://localhost:8080/"
    },
    "id": "Eqav_uj1tC__",
    "outputId": "c77ccbc0-09cd-4406-8860-a2da644fc546"
   },
   "outputs": [
    {
     "name": "stdout",
     "output_type": "stream",
     "text": [
      "Python 3.10.12\n"
     ]
    }
   ],
   "source": [
    "!python --version"
   ]
  },
  {
   "cell_type": "markdown",
   "metadata": {
    "id": "3DEWD9qIiqK8"
   },
   "source": [
    "-------------------------------------"
   ]
  },
  {
   "cell_type": "markdown",
   "metadata": {
    "collapsed": true,
    "id": "Z814ttFYiqK8"
   },
   "source": [
    "<div class=\"alert alert-block alert-warning\">\n",
    "\n",
    "## **3.  Examining Raw Data** <a class=\"anchor\" name=\"examine\"></a>\n",
    "\n",
    " </div>"
   ]
  },
  {
   "cell_type": "markdown",
   "metadata": {
    "id": "4YVIqb_miqK8"
   },
   "source": [
    "We begin by closely inspecting the content of the raw data file. Through this examination, several patterns and observations were identified, providing additional insights on the nature and characteristics of the dataset. Below are the key findings:"
   ]
  },
  {
   "cell_type": "markdown",
   "metadata": {
    "id": "Gp3TG3fyiqK9"
   },
   "source": [
    "**Identification of Data Patterns:**\n",
    "* The `<last-update-date>` records span a considerable time period, ranging from approximately the early 1990s to 2023.\n",
    "* The `<date-recorded>` records predominantly cover the period from the early 1990s to 2023, with a few exceptions dating back even earlier (e.g., records from 1955, 1963, 1977, 1980, etc.).\n",
    "* The presence of `&amp;` in XML, representing the character \"&,\" is noted throughout the dataset.\n",
    "* Special characters, such as accented letters like \"SOCIÉTÉ,\" are observed within the `<person-or-organization-name>` field.\n",
    "* Some organization names conclude with designations like S.A. and S.A.S., signifying various types of corporations which are commonly found in several countries in Latin America.\n",
    "\n",
    "**Consistency in Date Format:**\n",
    "* All dates within the dataset adhere to the format \"YYYYMMDD,\" formatted with no spaces in between.\n",
    "\n",
    "**Variations in Country/Nationality Labeling:**\n",
    "* Instances are noted where USA states are labeled under the `<nationality>` attribute, while records from other countries such as Canada, China, Germany, and Israel are also identified under the \"nationality\" label.\n",
    "\n",
    "**Geographical Attributes (for states):**\n",
    "* The majority of `<state>` attributes seem to correspond to USA states, indicating a predominant focus on trademark assignments within the United States.\n",
    "* The dataset also encompasses records from Canadian states, as well as British overseas territories and Crown dependencies."
   ]
  },
  {
   "cell_type": "markdown",
   "metadata": {
    "id": "fBEASWLfiqK-"
   },
   "source": [
    "-------------------------------------"
   ]
  },
  {
   "cell_type": "markdown",
   "metadata": {
    "collapsed": true,
    "id": "iDoVeDSHiqK-"
   },
   "source": [
    "<div class=\"alert alert-block alert-warning\">\n",
    "\n",
    "## **4.  Loading and Parsing Files** <a class=\"anchor\" name=\"load\"></a>\n",
    "\n",
    "</div>"
   ]
  },
  {
   "cell_type": "markdown",
   "metadata": {
    "id": "z24HaN8hiqK-"
   },
   "source": [
    "This section delves into the initial steps of loading and parsing files to prepare the trademark assignment data for further processing. It begins by discussing the process of reading the input file, followed by the crucial task of standardizing party names and country identifiers. Using appropriate regular expressions and predefined lists of states, this section highlights the methodologies employed to ensure consistency in party name representation and accurate identification of country locations.\n",
    "\n",
    "<br>\n",
    "\n",
    "Finally, it outlines the detailed process of processing trademark assignment entry data, covering the extraction of assignor and assignee information, unique IDs, and other relevant assignment entry details using defined regular expressions, along with their application to the input file specifically assigned to our group."
   ]
  },
  {
   "cell_type": "markdown",
   "metadata": {
    "id": "gQ0tuwvZiqK-"
   },
   "source": [
    "-------------------------------------"
   ]
  },
  {
   "cell_type": "markdown",
   "metadata": {
    "id": "QGcAMvmhiqK_"
   },
   "source": [
    "<div class=\"alert alert-block alert-info\">\n",
    "    \n",
    "### **4.1. Reading Files** <a class=\"anchor\" name=\"Read\"></a>"
   ]
  },
  {
   "cell_type": "markdown",
   "metadata": {
    "id": "llC5D5M3iqK_"
   },
   "source": [
    "In this initial step, all files are read and parsed, paving the way for further processing.\n",
    "\n",
    "<br>\n",
    "\n",
    "Firstly, we define a function `read_file_content(file_path)`, which utilizes the built-in `open()` function to access and read the contents of each file. The function accepts the file path as input and returns the content of the file as a string. Employing the 'utf-8' encoding ensures compatibility with various character encodings commonly encountered in textual data."
   ]
  },
  {
   "cell_type": "code",
   "execution_count": 20,
   "metadata": {
    "id": "tKaFK0tK15KT"
   },
   "outputs": [],
   "source": [
    "def read_file_content(file_path):\n",
    "    with open(file_path, 'r', encoding='utf-8') as file:\n",
    "        return file.read()"
   ]
  },
  {
   "cell_type": "markdown",
   "metadata": {
    "id": "Q03kcTZxU9tM"
   },
   "source": [
    "To parse the file's content and extract the trademark assignment entries, a dedicated function `extract_assignment_entries(content)` is devised. This employs the `re.findall()` method, which uses regular expressions for pattern matching. Specifically, the function searches for text enclosed within `<assignment-entry>` tags, effectively isolating and capturing each trademark assignment record present in the file.\n",
    "\n",
    "<br>\n",
    "\n",
    "The regular expression pattern `r'<assignment-entry>(.*?)</assignment-entry>'` is utilized, where `(.*?)` denotes a non-greedy match, ensuring that only the content within the `<assignment-entry>` tags is captured. Additionally, the `re.DOTALL` flag is employed to account for potential newline characters within the content, ensuring comprehensive matching.\n",
    "\n"
   ]
  },
  {
   "cell_type": "code",
   "execution_count": 21,
   "metadata": {
    "id": "uOvieKF93SXq"
   },
   "outputs": [],
   "source": [
    "def extract_assignment_entries(content):\n",
    "    return re.findall(r'<assignment-entry>(.*?)</assignment-entry>', content, re.DOTALL)"
   ]
  },
  {
   "cell_type": "markdown",
   "metadata": {
    "id": "H5rjHw6wYxY6"
   },
   "source": [
    "Once the trademark assignment entries are identified and extracted, they are stored as elements within a list variable named `assignment_entries`.\n",
    "\n",
    "<br>\n",
    "\n",
    "Let's examine the first five elements of the list generated. From the output below, we can see that each entry encapsulates details such as reel number, frame number, last update date, date recorded, page count, correspondent information, conveyance text, assignors, assignees, and associated properties.\n",
    "\n",
    "<br>\n",
    "\n",
    "Hence, it's evident that the trademark assignment entries are successfully parsed and accurately stored in the list, reflecting the structured nature of the extracted data."
   ]
  },
  {
   "cell_type": "code",
   "execution_count": 22,
   "metadata": {
    "colab": {
     "base_uri": "https://localhost:8080/"
    },
    "id": "Mh9LG-VQYbVl",
    "outputId": "4920e280-b989-4bd7-cabf-f0b8fec6e129"
   },
   "outputs": [
    {
     "name": "stdout",
     "output_type": "stream",
     "text": [
      "First five elements of the list:\n",
      "\n",
      "      <assignment>\n",
      "          <reel-no>3168</reel-no>\n",
      "          <frame-no>0109</frame-no>\n",
      "          <last-update-date>20051003</last-update-date>\n",
      "          <purge-indicator>N</purge-indicator>\n",
      "          <date-recorded>20050930</date-recorded>\n",
      "          <page-count>4</page-count>\n",
      "          <correspondent>\n",
      "              <person-or-organization-name>ROBERT W. HOKE</person-or-organization-name>\n",
      "              <address-1>115 3RD STREET SE, SUITE 500</address-1>\n",
      "              <address-2>P.O. BOX 2107</address-2>\n",
      "              <address-3>CEDAR RAPIDS, IA 52406</address-3>\n",
      "          </correspondent>\n",
      "          <conveyance-text>ASSIGNS THE ENTIRE INTEREST</conveyance-text>\n",
      "      </assignment>\n",
      "      <assignors>\n",
      "          <assignor>\n",
      "              <person-or-organization-name>GLENMAC INC.</person-or-organization-name>\n",
      "              <execution-date>20050930</execution-date>\n",
      "              <legal-entity-text>CORPORATION</legal-entity-text>\n",
      "              <nationality>NORTH DAKOTA</nationality>\n",
      "          </assignor>\n",
      "      </assignors>\n",
      "      <assignees>\n",
      "          <assignee>\n",
      "              <person-or-organization-name>HARLEY ATTACHMENTS, LLC</person-or-organization-name>\n",
      "              <address-1>5825 COUNCIL STREET NE</address-1>\n",
      "              <city>CEDAR RAPIDS</city>\n",
      "              <state>IOWA</state>\n",
      "              <postcode>52402</postcode>\n",
      "              <legal-entity-text>LIMITED LIABILITY COMPANY</legal-entity-text>\n",
      "              <nationality>DELAWARE</nationality>\n",
      "          </assignee>\n",
      "      </assignees>\n",
      "      <properties>\n",
      "          <property>\n",
      "              <serial-no>74384946</serial-no>\n",
      "              <registration-no>1844109</registration-no>\n",
      "          </property>\n",
      "          <property>\n",
      "              <serial-no>75426207</serial-no>\n",
      "              <registration-no>2275618</registration-no>\n",
      "          </property>\n",
      "          <property>\n",
      "              <serial-no>75426139</serial-no>\n",
      "              <registration-no>2277408</registration-no>\n",
      "          </property>\n",
      "      </properties>\n",
      "     \n",
      "\n",
      "      <assignment>\n",
      "          <reel-no>6318</reel-no>\n",
      "          <frame-no>0610</frame-no>\n",
      "          <last-update-date>20180503</last-update-date>\n",
      "          <purge-indicator>N</purge-indicator>\n",
      "          <date-recorded>20180503</date-recorded>\n",
      "          <page-count>2</page-count>\n",
      "          <correspondent>\n",
      "              <person-or-organization-name>HARTING STIFTUNG &amp; CO. KG</person-or-organization-name>\n",
      "              <address-1>MARIENWERDERSTRAßE 3</address-1>\n",
      "              <address-2>32339 ESPELKAMP</address-2>\n",
      "              <address-3>GERMANY</address-3>\n",
      "          </correspondent>\n",
      "          <conveyance-text>CHANGE OF NAME</conveyance-text>\n",
      "      </assignment>\n",
      "      <assignors>\n",
      "          <assignor>\n",
      "              <person-or-organization-name>HARTING AG &amp; CO. KG</person-or-organization-name>\n",
      "              <execution-date>20180312</execution-date>\n",
      "              <legal-entity-text>UNKNOWN</legal-entity-text>\n",
      "              <nationality>NOT PROVIDED</nationality>\n",
      "          </assignor>\n",
      "      </assignors>\n",
      "      <assignees>\n",
      "          <assignee>\n",
      "              <person-or-organization-name>HARTING STIFTUNG &amp; CO. KG</person-or-organization-name>\n",
      "              <address-1>MARIENWERDERSTRAßE 3</address-1>\n",
      "              <city>32339 ESPELKAMP</city>\n",
      "              <country-name>GERMANY</country-name>\n",
      "              <legal-entity-text>UNKNOWN</legal-entity-text>\n",
      "              <nationality>NOT PROVIDED</nationality>\n",
      "          </assignee>\n",
      "      </assignees>\n",
      "      <properties>\n",
      "          <property>\n",
      "              <serial-no>79119820</serial-no>\n",
      "              <registration-no>4774604</registration-no>\n",
      "              <intl-reg-no>1134160</intl-reg-no>\n",
      "          </property>\n",
      "      </properties>\n",
      "     \n",
      "\n",
      "      <assignment>\n",
      "          <reel-no>6571</reel-no>\n",
      "          <frame-no>0069</frame-no>\n",
      "          <last-update-date>20190225</last-update-date>\n",
      "          <purge-indicator>N</purge-indicator>\n",
      "          <date-recorded>20190222</date-recorded>\n",
      "          <page-count>4</page-count>\n",
      "          <correspondent>\n",
      "              <person-or-organization-name>CAROLINE E. BRYCE</person-or-organization-name>\n",
      "              <address-1>1560 BROADWAY, SUITE 1200</address-1>\n",
      "              <address-2>SHERIDAN ROSS P.C.</address-2>\n",
      "              <address-3>DENVER, CO 80202</address-3>\n",
      "          </correspondent>\n",
      "          <conveyance-text>CHANGE OF NAME</conveyance-text>\n",
      "      </assignment>\n",
      "      <assignors>\n",
      "          <assignor>\n",
      "              <person-or-organization-name>TELOIP INC.</person-or-organization-name>\n",
      "              <execution-date>20190130</execution-date>\n",
      "              <legal-entity-text>CORPORATION</legal-entity-text>\n",
      "              <nationality>CANADA</nationality>\n",
      "          </assignor>\n",
      "      </assignors>\n",
      "      <assignees>\n",
      "          <assignee>\n",
      "              <person-or-organization-name>ADAPTIV NETWORKS INC.</person-or-organization-name>\n",
      "              <address-1>1-5430 TIMBERLEA BLVD</address-1>\n",
      "              <city>MISSISSAUGA, ONTARIO</city>\n",
      "              <country-name>CANADA</country-name>\n",
      "              <postcode>L4W2T7</postcode>\n",
      "              <legal-entity-text>CORPORATION</legal-entity-text>\n",
      "              <nationality>CANADA</nationality>\n",
      "          </assignee>\n",
      "      </assignees>\n",
      "      <properties>\n",
      "          <property>\n",
      "              <serial-no>87237097</serial-no>\n",
      "              <registration-no>5274765</registration-no>\n",
      "          </property>\n",
      "          <property>\n",
      "              <serial-no>87172632</serial-no>\n",
      "              <registration-no>5603433</registration-no>\n",
      "          </property>\n",
      "      </properties>\n",
      "     \n",
      "\n",
      "      <assignment>\n",
      "          <reel-no>2726</reel-no>\n",
      "          <frame-no>0087</frame-no>\n",
      "          <last-update-date>20031006</last-update-date>\n",
      "          <purge-indicator>N</purge-indicator>\n",
      "          <date-recorded>20031006</date-recorded>\n",
      "          <page-count>6</page-count>\n",
      "          <correspondent>\n",
      "              <person-or-organization-name>MICHELLE V. FRANCIS</person-or-organization-name>\n",
      "              <address-1>1211 AVENUE OF THE AMERICAS - 4TH FLOOR</address-1>\n",
      "              <address-2>NEWS AMERICA INCORPORATED</address-2>\n",
      "              <address-3>NEW YORK, NY 10036</address-3>\n",
      "          </correspondent>\n",
      "          <conveyance-text>CHANGE OF NAME</conveyance-text>\n",
      "      </assignment>\n",
      "      <assignors>\n",
      "          <assignor>\n",
      "              <person-or-organization-name>ACTMEDIA, INC.</person-or-organization-name>\n",
      "              <execution-date>19980630</execution-date>\n",
      "              <legal-entity-text>CORPORATION</legal-entity-text>\n",
      "              <nationality>DELAWARE</nationality>\n",
      "          </assignor>\n",
      "      </assignors>\n",
      "      <assignees>\n",
      "          <assignee>\n",
      "              <person-or-organization-name>NEWS AMERICA MARKETING IN-STORE, INC.</person-or-organization-name>\n",
      "              <address-1>20 WESTPORT ROAD</address-1>\n",
      "              <address-2>1ST FLOOR</address-2>\n",
      "              <city>WILTON</city>\n",
      "              <state>CONNECTICUT</state>\n",
      "              <postcode>06897</postcode>\n",
      "              <legal-entity-text>CORPORATION</legal-entity-text>\n",
      "              <nationality>DELAWARE</nationality>\n",
      "          </assignee>\n",
      "      </assignees>\n",
      "      <properties>\n",
      "          <property>\n",
      "              <serial-no>73627911</serial-no>\n",
      "              <registration-no>1487052</registration-no>\n",
      "          </property>\n",
      "      </properties>\n",
      "     \n",
      "\n",
      "      <assignment>\n",
      "          <reel-no>4106</reel-no>\n",
      "          <frame-no>0788</frame-no>\n",
      "          <last-update-date>20091203</last-update-date>\n",
      "          <purge-indicator>N</purge-indicator>\n",
      "          <date-recorded>20091202</date-recorded>\n",
      "          <page-count>33</page-count>\n",
      "          <correspondent>\n",
      "              <person-or-organization-name>RENEE PRESCAN</person-or-organization-name>\n",
      "              <address-1>300 NORTH LASALLE STREET</address-1>\n",
      "              <address-2>KIRKLAND &amp; ELLIS LLP</address-2>\n",
      "              <address-3>CHICAGO, IL 60654</address-3>\n",
      "          </correspondent>\n",
      "          <conveyance-text>BANKRUPTCY COURT ORDER RELEASING ALL LIENS, INCLUDING THE SECURITY INTEREST RECORDED AT REEL/FRAME 3477/0271</conveyance-text>\n",
      "      </assignment>\n",
      "      <assignors>\n",
      "          <assignor>\n",
      "              <person-or-organization-name>DEUTSCHE BANK AG, NEW YORK BRANCH, AS COLLATERAL AGENT</person-or-organization-name>\n",
      "              <execution-date>20090819</execution-date>\n",
      "              <legal-entity-text>CORPORATION</legal-entity-text>\n",
      "              <nationality>GERMANY</nationality>\n",
      "          </assignor>\n",
      "      </assignors>\n",
      "      <assignees>\n",
      "          <assignee>\n",
      "              <person-or-organization-name>METALDYNE, LLC</person-or-organization-name>\n",
      "              <address-1>47659 HALYARD DRIVE</address-1>\n",
      "              <city>PLYMOUTH</city>\n",
      "              <state>MICHIGAN</state>\n",
      "              <postcode>48170</postcode>\n",
      "              <legal-entity-text>LIMITED LIABILITY COMPANY</legal-entity-text>\n",
      "              <nationality>DELAWARE</nationality>\n",
      "          </assignee>\n",
      "      </assignees>\n",
      "      <properties>\n",
      "          <property>\n",
      "              <serial-no>78349156</serial-no>\n",
      "              <registration-no>3056356</registration-no>\n",
      "          </property>\n",
      "      </properties>\n",
      "     \n"
     ]
    }
   ],
   "source": [
    "# Print the first five elements of trademark assignments\n",
    "\n",
    "file_path = '/content/drive/Shareddrives/FIT5196_S1_2024/A1/Students data/Task 1/Group055.txt'\n",
    "content = read_file_content(file_path)\n",
    "assignment_entries = extract_assignment_entries(content)\n",
    "\n",
    "print(\"First five elements of the list:\")\n",
    "for entry in assignment_entries[:5]:\n",
    "    print(entry)"
   ]
  },
  {
   "cell_type": "markdown",
   "metadata": {
    "id": "gZ-njkJciqK_"
   },
   "source": [
    "-------------------------------------"
   ]
  },
  {
   "cell_type": "markdown",
   "metadata": {
    "id": "rApp_Ic9iqK-"
   },
   "source": [
    "<div class=\"alert alert-block alert-info\">\n",
    "    \n",
    "### **4.2. Standardizing Party Names and Country Identifiers** <a class=\"anchor\" name=\"Reg_Exp\"></a>"
   ]
  },
  {
   "cell_type": "markdown",
   "metadata": {
    "id": "knauV0VViqK-"
   },
   "source": [
    "Defining correct regular expressions to ensure consistent representation of party names and accurate identification of country locations are essential steps in extracting desired information from the text efficiently. To process our trademark assignment data effectively, we employ regular expressions and predefined lists of states for the removal of titles (i.e., for individuals) and the identification of countries.\n",
    "\n",
    "<br>\n",
    "\n",
    "This section outlines the methodologies used for standardizing party names and determining country identifiers.\n",
    "\n"
   ]
  },
  {
   "cell_type": "markdown",
   "metadata": {
    "id": "-jwcVJJk6Jot"
   },
   "source": [
    "<div class=\"alert alert-block alert-info\">\n",
    "    \n",
    "#### **4.2.1. Removal of Titles for Individuals** <a class=\"title removal\" name=\"Title_Removal\"></a>"
   ]
  },
  {
   "cell_type": "markdown",
   "metadata": {
    "id": "tkFFHoP1L8pM"
   },
   "source": [
    "A `remove_title` function is created to preprocess party names (both assignors and assignees) extracted from the data. This function primarily aims to standardize the representation of party names by removing any titles that might be present in cases where the party is an individual.\n",
    "\n",
    "<br>\n",
    "\n",
    "Firstly, we define a regular expression pattern that matches common titles for individuals such as \"MRS\", \"MS\", \"MISS\", \"MR\", \"DR\", \"LADY\", \"LORD\" and \"SIR\". This pattern is designed to be case-insensitive and flexible enough to handle variations with trailing punctuation. Furthermore, we add a negative lookahead assertion `(?![a-zA-Z])` that ensures the title is not followed by any alphabetic characters. This prevents matching cases where the title is followed immediately by characters indicative of a name, such as in \"Mriz\".\n",
    "\n"
   ]
  },
  {
   "cell_type": "markdown",
   "metadata": {
    "id": "uBh80aYzenDd"
   },
   "source": [
    "<div style=\"display: flex; justify-content: center;\">\n",
    "\n",
    "**Representation of `r'\\b((MRS|MS|MISS|MR|DR|LADY|LORD|SIR)\\.?)\\s?(?![a-zA-Z])'` :**\n",
    "\n",
    "\n"
   ]
  },
  {
   "cell_type": "markdown",
   "metadata": {
    "id": "f3uzTC7GAzES"
   },
   "source": [
    "![image.png](data:image/png;base64,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)"
   ]
  },
  {
   "cell_type": "markdown",
   "metadata": {
    "id": "aQuJgEG-hh-e"
   },
   "source": [
    "The function also considers organization names by defining a list of common organization suffixes and creating a regular expression pattern to match any of these suffixes in a given string.\n",
    "\n",
    "<br>\n",
    "\n",
    "The `organization_suffixes` list contains various common suffixes used in the names of organizations such as \"Inc\", \"LLC\", \"Ltd\", \"Corp\", \"Co\", \"Corporation\", \"Limited\" and others. Each element in the list represents a different suffix that might indicate an organizational entity.\n",
    "\n",
    "<br>\n",
    "\n",
    "Next, the `org_suffix_pattern` variable stores a regular expression pattern constructed using the organization suffixes list. The `join()` function is used to concatenate the suffixes into a single string, separated by the \"|\" (or) operator. This creates a pattern that matches any of the suffixes. Additionally, the `r'\\b{}\\b'` format string is used to ensure that the suffixes are matched as whole words (i.e., bounded by word boundaries). This prevents partial matches with words containing these suffixes as substrings. For example, \"Corp\" will match as a whole word but will not match \"Corporation\" or \"Corporate\" because they are not bounded by non-word characters at both ends.\n",
    "\n",
    "<br>\n",
    "\n",
    "The resulting `org_suffix_pattern` is later used in regular expression functions (e.g., `re.search()`) to identify organization names based on their suffixes. This helps in accurately distinguishing between individual and organizational names, as later seen in the `remove_title` function's methodology."
   ]
  },
  {
   "cell_type": "markdown",
   "metadata": {
    "id": "SSZMzCW_gK6h"
   },
   "source": [
    "If the name of the party contains a title pattern (\"MRS\", \"MS\", \"MISS\", \"MR\", \"DR\", \"LADY\", \"LORD\" or \"SIR\"), indicating that it might be an individual, the function then checks for additional conditions to determine whether the title should actually be removed:\n",
    "* If the legal entity text indicates that the party is an individual (e.g., contains \"INDIVIDUAL\"), the title is removed.\n",
    "* If the legal entity text is \"UNKNOWN\" and the name does not contain common organization suffixes, the title is removed.\n",
    "* If the legal entity text is empty (indicating ambiguity) and the name does not resemble an organization name, the title is removed.\n",
    "\n",
    "<br>\n",
    "\n",
    "Otherwise, if the name doesn't contain a title pattern or the conditions above are not met, the function returns the party's name as it is.\n",
    "\n",
    "<br>\n",
    "\n",
    "Upon processing, the function returns the modified name, where titles are removed if applicable, ensuring uniformity in the representation of party names. Overall, this streamlines the representation of party names by eliminating titles from individual names and considering common organization suffixes to maintain consistency and clarity in the extracted data.\n"
   ]
  },
  {
   "cell_type": "code",
   "execution_count": 23,
   "metadata": {
    "colab": {
     "base_uri": "https://localhost:8080/"
    },
    "id": "yjwsdfi46GKp",
    "outputId": "09f22445-234a-44be-e208-74a32b2b5c4a"
   },
   "outputs": [
    {
     "name": "stdout",
     "output_type": "stream",
     "text": [
      "John Hammonds\n",
      "Smith, Ally\n",
      "James Smith\n",
      "Mr. ABC Inc.\n",
      "Peter Parker\n",
      "Mruiz, Ahmed\n",
      "Elizabeth Smith\n",
      "John Watson\n",
      "Lady Elizabeth Smith\n",
      "Lord John Watson\n",
      "John Watson\n"
     ]
    }
   ],
   "source": [
    "def remove_title(name, legal_entity_text):\n",
    "    # Define a regular expression pattern to match titles for individuals\n",
    "    title_pattern = r'\\b((MRS|MS|MISS|MR|DR|LADY|LORD|SIR)\\.?)\\s?(?![a-zA-Z])'\n",
    "\n",
    "    # Define a list of common organization suffixes as a constant\n",
    "    organization_suffixes = ['inc', 'llc', 'ltd', 'corp', 'co', 'corporation', 'limited', 'company', 'ing', 's\\.?a\\.?', 's\\.?a\\.s\\.?', 's\\.?a\\.r\\.l\\.?', 's\\.?a\\.m\\.?']\n",
    "    org_suffix_pattern = '|'.join(r'\\b{}\\b'.format(suffix) for suffix in organization_suffixes)\n",
    "\n",
    "    # Check if the name contains a title pattern anywhere\n",
    "    if re.search(title_pattern, name, flags=re.IGNORECASE):\n",
    "        # Check if legal_entity_text contains \"INDIVIDUAL\":\n",
    "        if 'INDIVIDUAL' in legal_entity_text.upper():\n",
    "            # Remove the title for individuals:\n",
    "            return re.sub(title_pattern, '', name, flags=re.IGNORECASE).strip(', ')\n",
    "        # Check if legal_entity_text contains \"UNKNOWN\":\n",
    "        elif 'UNKNOWN' in legal_entity_text.upper() and not re.search(org_suffix_pattern, name, re.IGNORECASE):\n",
    "            return re.sub(title_pattern, '', name, flags=re.IGNORECASE).strip(', ')\n",
    "        # Check if legal_entity_text is empty:\n",
    "        elif not legal_entity_text.strip() and not re.search(org_suffix_pattern, name, re.IGNORECASE):\n",
    "            return re.sub(title_pattern, '', name, flags=re.IGNORECASE).strip(', ')\n",
    "        else:\n",
    "            return name.strip()\n",
    "\n",
    "    # If the name doesn't contain a title pattern or the conditions above are not met, return it as it is\n",
    "    return name.strip()\n",
    "\n",
    "\n",
    "# Example 1: Individual with a title\n",
    "name_1 = remove_title(\"Mr John Hammonds\", \"INDIVIDUAL\")\n",
    "print(name_1)  # Output: \"John Hammonds\"\n",
    "\n",
    "# Example 2: Individual without a title\n",
    "name_2 = remove_title(\"Smith, Ally, Ms\", \"INDIVIDUAL\")\n",
    "print(name_2)  # Output: \"Smith, Ally\"\n",
    "\n",
    "# Example 3: Unknown entity without a title\n",
    "name_3 = remove_title(\"Dr. James Smith\", \"UNKNOWN\")\n",
    "print(name_3)  # Output: \"James Smith\"\n",
    "\n",
    "# Example 4: Unknown entity with a title that is an organization\n",
    "name_4 = remove_title(\"Mr. ABC Inc.\", \"CORPORATION\")\n",
    "print(name_4)  # Output: \"Mr. ABC Inc.\"\n",
    "\n",
    "# Example 5: Empty legal_entity_text and a title\n",
    "name_5 = remove_title(\"Dr. Peter Parker\", \"INDIVIDUAL\")\n",
    "print(name_5)  # Output: \"Peter Parker\"\n",
    "\n",
    "# Example 5: Empty legal_entity_text and a title\n",
    "name_5 = remove_title(\"Mruiz, Ahmed\", \"INDIVIDUAL\")\n",
    "print(name_5)  # Output: \"Mruiz, Ahmed\"\n",
    "\n",
    "# Example 6: Individual with title \"Lady\"\n",
    "name_6 = remove_title(\"Lady Elizabeth Smith\", \"INDIVIDUAL\")\n",
    "print(name_6)  # Output: \"Elizabeth Smith\"\n",
    "\n",
    "# Example 7: Individual with title \"Lord\"\n",
    "name_7 = remove_title(\"Lord John Watson\", \"INDIVIDUAL\")\n",
    "print(name_7)  # Output: \"John Watson\"\n",
    "\n",
    "# Example 8: Individual with title \"Lady\"\n",
    "name_6 = remove_title(\"Lady Elizabeth Smith\", \"LIMITED LIABILITY\")\n",
    "print(name_6)  # Output: \"Lady Elizabeth Smith\"\n",
    "\n",
    "# Example 9: Individual with title \"Lord\"\n",
    "name_7 = remove_title(\"Lord John Watson\", \"CORPORATION\")\n",
    "print(name_7)  # Output: \"Lord John Watson\"\n",
    "\n",
    "# Example 10: Individual with title \"Sir\"\n",
    "name_7 = remove_title(\"Sir John Watson\", \"INDIVIDUAL\")\n",
    "print(name_7)  # Output: \"John Watson\"\n",
    "\n"
   ]
  },
  {
   "cell_type": "markdown",
   "metadata": {
    "id": "a_m0f9_b5aRb"
   },
   "source": [
    "-------------------------------------"
   ]
  },
  {
   "cell_type": "markdown",
   "metadata": {
    "id": "bwB3TaenobeW"
   },
   "source": [
    "<div class=\"alert alert-block alert-info\">\n",
    "    \n",
    "#### **4.2.2. States Definition** <a class=\"states\" name=\"states\"></a>"
   ]
  },
  {
   "cell_type": "markdown",
   "metadata": {
    "id": "xBJzuFQ-o45X"
   },
   "source": [
    "The provided assignment specification outlines certain rules for determining the country location of both assignors and assignees, based on the available information in the dataset (especially for the United States and United Kingdom). For instance, if the country name explicitly mentions \"USA\" or any variant of \"USA,\" the country location is set to \"USA.\" If the country name is a variant of the UK, such as \"England,\" \"Scotland,\" or \"Wales,\" the country location is set to \"UK.\" When explicit country names are not available, the state names or nationality provided in the data are used to infer the country location.\n",
    "\n",
    "<br>\n",
    "\n",
    "As mentioned previously, we identified earlier that the majority of `<state>` attributes appear to correspond to USA states, as well as some Canadian states and British overseas territories/Crown dependencies.\n",
    "\n",
    "<br>\n",
    "\n",
    "Hence, the code below defines lists of states for three different countries: the United States, the United Kingdom, and Canada. These lists act as reference data, facilitating the identification and standardization of state, country, and territory names essential for accurately determining the country identification of assignors and assignees later on."
   ]
  },
  {
   "cell_type": "code",
   "execution_count": 24,
   "metadata": {
    "id": "mizqdAOHo0af"
   },
   "outputs": [],
   "source": [
    "# STATES FOR ASSIGNORS' AND ASSIGNEES' COUNTRY\n",
    "\n",
    "us_states = ['ALABAMA', 'ALASKA', 'ARIZONA', 'ARKANSAS', 'CALIFORNIA', 'COLORADO', 'CONNECTICUT', 'DELAWARE', 'DISTRICT OF COLUMBIA', 'FLORIDA', 'GEORGIA', 'HAWAII', 'IDAHO', 'ILLINOIS', 'INDIANA', 'IOWA', 'KANSAS', 'KENTUCKY', 'LOUISIANA', 'MAINE', 'MARYLAND', 'MASSACHUSETTS', 'MICHIGAN', 'MINNESOTA', 'MISSISSIPPI', 'MISSOURI', 'MONTANA', 'NEBRASKA', 'NEVADA', 'NEW HAMPSHIRE', 'NEW JERSEY', 'NEW MEXICO', 'NEW YORK', 'NORTH CAROLINA', 'NORTH DAKOTA', 'OHIO', 'OKLAHOMA', 'OREGON', 'PENNSYLVANIA', 'RHODE ISLAND', 'SOUTH CAROLINA', 'SOUTH DAKOTA', 'TENNESSEE', 'TEXAS', 'UTAH', 'VERMONT', 'VIRGINIA', 'WASHINGTON', 'WEST VIRGINIA', 'WISCONSIN', 'WYOMING']\n",
    "uk_states = ['ENGLAND', 'SCOTLAND', 'WALES', 'NORTHERN IRELAND', 'ENGLAND AND WALES', 'GREAT BRITAIN']\n",
    "canada_states = ['ALBERTA', 'BRITISH COLUMBIA', 'MANITOBA', 'NEW BRUNSWICK', 'NEWFOUNDLAND AND LABRADOR', 'NOVA SCOTIA', 'ONTARIO', 'PRINCE EDWARD ISLAND', 'QUEBEC', 'SASKATCHEWAN', 'NORTHWEST TERRITORIES', 'NUNAVUT', 'YUKON' ]\n"
   ]
  },
  {
   "cell_type": "markdown",
   "metadata": {
    "id": "YTqmBHIKiqK_"
   },
   "source": [
    "These patterns are used in the next step, particularly when parsing the text data and extracting information related to assignors and assignees."
   ]
  },
  {
   "cell_type": "markdown",
   "metadata": {
    "id": "MD-LSS76iqLA"
   },
   "source": [
    "-------------------------------------"
   ]
  },
  {
   "cell_type": "markdown",
   "metadata": {
    "id": "ZtwS6ttqiqLA"
   },
   "source": [
    "<div class=\"alert alert-block alert-info\">\n",
    "    \n",
    "### **4.3. Processing Trademark Assignment Data** <a class=\"process\" name=\"process\"></a>"
   ]
  },
  {
   "cell_type": "markdown",
   "metadata": {
    "id": "Jq8Y3Gjp3K8V"
   },
   "source": [
    "<div class=\"alert alert-block alert-info\">\n",
    "    \n",
    "#### **4.3.1. Extraction of Assignor & Assignee Information** <a class=\"assignors_assignees\" name=\"assignors_assignees\"></a>"
   ]
  },
  {
   "cell_type": "markdown",
   "metadata": {
    "id": "K4kPPgE49s3Y"
   },
   "source": [
    "Firstly, we create the functions `extract_assignors_info` and `extract_assignees_info`, which focus on parsing and standardizing assignor and assignee data extracted from the trademark assignment file. These functions are designed to process assignor and assignee information, including names, dates, and country identifiers.\n",
    "\n",
    "<br>\n",
    "\n",
    "Both the `extract_assignors_info` and `extract_assignees_info` functions take one input parameter each (explained in later sections): `assignors_match` and `assignees_match` respectively. The `assignors_match` parameter extracts information relevant to assignors, while `assignees_match` provides the content related to assignees.\n",
    "\n",
    "<br>\n",
    "\n",
    "The functions start off by initializing an empty list (`assignors_info` and `assignees_info`) to store assignor/assignee information. They then iterate over each section of assignor/assignee data provided in `assignors_match` or `assignees_match` respectively. Each section typically represents information about a single assignor/assignee extracted from the assignment entry. Using regular expressions, it extracts specific attributes such as assignor/assignee name, legal entity text, acknowledgement and execution dates (only for assignors), country name, state, and nationality from each section.\n",
    "\n"
   ]
  },
  {
   "cell_type": "markdown",
   "metadata": {
    "id": "EmrVKLPSBYke"
   },
   "source": [
    "<div class=\"alert alert-block alert-info\">\n",
    "    \n",
    "##### **Extracting Assignor/Assignee Attributes using Regular Expressions:** <a class=\"assignors/assignees attributes\" name=\"latin\"></a>"
   ]
  },
  {
   "cell_type": "markdown",
   "metadata": {
    "id": "I9oNySW9BeYK"
   },
   "source": [
    "For each section, regular expressions (regex) are utilized to extract specific attributes related to the assignor/assignee:\n",
    "\n",
    "* **Assignor/Assignee Name:** extracted using the regex `r'<person-or-organization-name>(.*?)</person-or-organization-name>'`, which captures the content within `<person-or-organization-name>` tags.\n",
    "* **Legal Entity Text:** extracted using the regex `r'<legal-entity-text>(.*?)</legal-entity-text>'`, capturing the content within `<legal-entity-text>` tags.\n",
    "* **Date Acknowledged:** extracted using the regex `r'<date-acknowledged>(\\d{4})(\\d{2})(\\d{2})</date-acknowledged>'`. which captures the acknowledgement date in the format \"YYYYMMDD\". `(\\d{4})` matches exactly four digits and captures them within parentheses, whereas `(\\d{2})` matches exactly two digits. The captured components (year, month, day) are then formatted into a date string.\n",
    "* **Execution Date:** extracted using the regex `r'<execution-date>(\\d{4})(\\d{2})(\\d{2})</execution-date>'`, which captures the execution date in the format \"YYYYMMDD\".\n",
    "* **Country Name:** extracted using the regex `r'<country-name>(.*?)</country-name>'`, capturing the content within `<country-name>` tags. The `re.IGNORECASE` flag is used to perform case-insensitive matching.\n",
    "* **State:** extracted using the regex `r'<state>(.*?)</state>'`, capturing the content within `<state>` tags. Similar to the country name, the `re.IGNORECASE` flag is used.\n",
    "* **Nationality:** extracted using the regex `r'<nationality>(.*?)</nationality>'`, capturing the content within `<nationality>` tags. Again, the `re.IGNORECASE` flag is applied."
   ]
  },
  {
   "cell_type": "markdown",
   "metadata": {
    "id": "DPMxBk84RKVb"
   },
   "source": [
    "<div style=\"display: flex; justify-content: center;\">\n",
    "\n",
    "**Representation of `r'(\\d{4})(\\d{2})(\\d{2})'`:**\n",
    "\n",
    "\n",
    "![image.png](data:image/png;base64,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)"
   ]
  },
  {
   "cell_type": "markdown",
   "metadata": {
    "id": "NAC1YKhTF7tu"
   },
   "source": [
    "The next step is to perform extraction of assignor and assignee data, while accounting for handling missing attributes as well as any special characters.\n",
    "\n",
    "<br>\n",
    "\n",
    "For both assignor/assignee name and legal entity text, we use `assignor_name_match.group(1)` or `assignees_name_match.group(1)` and `legal_entity_text_match.group(1)` to extract the content retrieved by the first capturing group in the regex patterns used to search for the assignor/assignee name and legal entity text. For instance, the `.group(1)` method captures the content between `<person-or-organization-name>` and `</person-or-organization-name>` tags.\n"
   ]
  },
  {
   "cell_type": "markdown",
   "metadata": {
    "id": "R9jTrexK8Rj9"
   },
   "source": [
    "<div class=\"alert alert-block alert-info\">\n",
    "\n",
    "##### **Removal of Whitespaces and Special Characters:**"
   ]
  },
  {
   "cell_type": "markdown",
   "metadata": {
    "id": "gWTBqx0I8S2B"
   },
   "source": [
    "In addition to removing leading or trailing whitespaces from the extracted strings using `.strip()`, XML special characters such as `&amp;`, `&lt;`, `&gt;`, `&quot;`, and `&apos;` are replaced with their corresponding entities (i.e., &, <, >, \", and ', respectively) using the `.replace()` method. This replacement process is facilitated by a dictionary, `xml_entities`, which maps each character to its entity. Utilizing this dictionary ensures proper handling and prepares the strings for processing, enhancing code cleanliness and maintainability."
   ]
  },
  {
   "cell_type": "markdown",
   "metadata": {
    "id": "34Ng_oTKhYRx"
   },
   "source": [
    "<div class=\"alert alert-block alert-info\">\n",
    "\n",
    "##### **Formatting of Dates:**\n"
   ]
  },
  {
   "cell_type": "markdown",
   "metadata": {
    "id": "53MrOUYq8M7Y"
   },
   "source": [
    "When formatting the acknowledgement and execution dates for assignors, we first extract the year, month, and day components respectively from the captured dates. We then use an f-string for string formatting, which combines the extracted year, month, and day components into a formatted date string separated by hyphens ('-')."
   ]
  },
  {
   "cell_type": "markdown",
   "metadata": {
    "id": "02Z5ViDahTvL"
   },
   "source": [
    "<div class=\"alert alert-block alert-info\">\n",
    "\n",
    "##### **Handling Missing Attributes or Data:** <a class=\"missing\" name=\"missing\"></a>"
   ]
  },
  {
   "cell_type": "markdown",
   "metadata": {
    "id": "VC2_nbgr8Kan"
   },
   "source": [
    "Before storing the extracted attributes, checks are performed to identify if the corresponding match object exists. For example, we apply a conditional statement `if assignor_name_match else 'NA'` to check if the `assignor_name_match` object exists. If it does (i.e., a match for the assignor name is found), the extracted assignor name is returned. If not (i.e., no match is found and the match object is \"None\"), this indicates that the attribute element was not found in the assignor section and the string 'NA' is therefore returned as a default value.\n",
    "\n",
    "<br>\n",
    "\n",
    "This check for missing values is applied to all attributes, ensuring that if the corresponding XML tag (i.e. attribute element) is not found within the assignor/assignee section, the function returns 'NA' as a default value for that attribute."
   ]
  },
  {
   "cell_type": "markdown",
   "metadata": {
    "id": "zAtSUs4jFXXP"
   },
   "source": [
    "<div class=\"alert alert-block alert-info\">\n",
    "    \n",
    "##### **Country Inference Methodology:** <a class=\"assignors country\" name=\"latin\"></a>"
   ]
  },
  {
   "cell_type": "markdown",
   "metadata": {
    "id": "ow5g9PQeQF8Q"
   },
   "source": [
    "After capturing the country name, state and nationality information through employing regular expressions, each extracted attribute is then processed to remove leading and trailing whitespaces, and is converted to uppercase for consistency.\n",
    "\n",
    "<br>\n",
    "\n",
    "To infer the country location for both assignors and assignees, we use a cascading logic based on the extracted attributes:\n",
    "\n",
    "* If a country name is found (`country_name`), the code checks if it matches predefined strings indicating the USA, UK, or Canada. If a match is found, the corresponding country code is assigned to the `country` variable. Otherwise, the country is set based on the extracted `country_name` itself.\n",
    "* If no country name is present but a state is extracted (`state`), the code checks if the state matches any US states, UK states, or Canadian provinces as defined in our three lists previously. If a match is found, the corresponding country code is assigned. Otherwise, the state itself is assigned to `country`.\n",
    "* In the absence of both country name and state, but with nationality information available (`nationality`), the code performs similar checks based on nationality. If the nationality matches predefined patterns or states for the USA, UK, or Canada, the country code is set accordingly. If the nationality is missing or labeled as 'NOT PROVIDED' or 'STATELESS', the country is marked as 'NA'. Otherwise, the country is set based on the extracted nationality itself.\n",
    "\n",
    "<br>\n",
    "\n",
    "If none of the above conditions are met, indicating ambiguity or missing data, the country is set to 'NA' to signify the absence of a definitive country location."
   ]
  },
  {
   "cell_type": "markdown",
   "metadata": {
    "id": "ZpQMeugyiPxH"
   },
   "source": [
    "<div class=\"alert alert-block alert-info\">\n",
    "    \n",
    "##### **Organization and Storage of Assignor/Assignee Information:** <a class=\"assignors country\" name=\"latin\"></a>"
   ]
  },
  {
   "cell_type": "markdown",
   "metadata": {
    "id": "_sPM33kDgF5K"
   },
   "source": [
    "After processing the data to extract relevant attributes for each assignor/assignee entry, these attributes are then organized into dictionaries and appended to the initialized empty lists (`assignors_info` and `assignees_info`) respectively.\n",
    "\n",
    "<br>\n",
    "\n",
    "Finally, the functions return the lists containing all the assignor/assignee information extracted from the inputs `assignors_match` and `assignees_match`."
   ]
  },
  {
   "cell_type": "code",
   "execution_count": 25,
   "metadata": {
    "id": "QqGuudG53u8g"
   },
   "outputs": [],
   "source": [
    "def extract_assignors_info(assignors_match):\n",
    "    assignors_info = []\n",
    "\n",
    "    # Define a dictionary mapping XML characters to their corresponding entities\n",
    "    xml_entities = {'&amp;': '&', '&lt;': '<', '&gt;': '>', '&quot;': '\"', '&apos;': \"'\"}\n",
    "\n",
    "    # Loop through each assignor section\n",
    "    for assignor_section in assignors_match:\n",
    "        # Regex for assignor sections\n",
    "        assignor_name_match = re.search(r'<person-or-organization-name>(.*?)</person-or-organization-name>', assignor_section)\n",
    "        legal_entity_text_match = re.search(r'<legal-entity-text>(.*?)</legal-entity-text>', assignor_section)\n",
    "        date_acknowledged_match = re.search(r'<date-acknowledged>(\\d{4})(\\d{2})(\\d{2})</date-acknowledged>', assignor_section)\n",
    "        execution_date_match = re.search(r'<execution-date>(\\d{4})(\\d{2})(\\d{2})</execution-date>', assignor_section)\n",
    "        country_match = re.search(r'<country-name>(.*?)</country-name>', assignor_section, re.IGNORECASE)\n",
    "        state_match = re.search(r'<state>(.*?)</state>', assignor_section, re.IGNORECASE)\n",
    "        nationality_match = re.search(r'<nationality>(.*?)</nationality>', assignor_section, re.IGNORECASE)\n",
    "\n",
    "        # Extract assignor name\n",
    "        assignor_name = assignor_name_match.group(1).strip() if assignor_name_match else 'NA'\n",
    "        # Extract date acknowledged\n",
    "        date_acknowledged = f\"{date_acknowledged_match.group(1)}-{date_acknowledged_match.group(2)}-{date_acknowledged_match.group(3)}\" if date_acknowledged_match else 'NA'\n",
    "\n",
    "        # Extract execution date\n",
    "        execution_date = f\"{execution_date_match.group(1)}-{execution_date_match.group(2)}-{execution_date_match.group(3)}\" if execution_date_match else 'NA'\n",
    "\n",
    "        # Extract legal entity text\n",
    "        legal_entity_text = legal_entity_text_match.group(1).strip() if legal_entity_text_match else 'NA'\n",
    "\n",
    "        # Replace XML characters with their entities\n",
    "        for entity, char in xml_entities.items():\n",
    "            assignor_name = assignor_name.replace(entity, char)\n",
    "            legal_entity_text = legal_entity_text.replace(entity, char)\n",
    "\n",
    "        # Extract nationality and determine country\n",
    "        country_name = country_match.group(1).strip().upper() if country_match else None\n",
    "        state = state_match.group(1).strip().upper() if state_match else None\n",
    "        nationality = nationality_match.group(1).strip().upper() if nationality_match else None\n",
    "\n",
    "        # Infer country based on nationality and/or state\n",
    "        if country_name:\n",
    "            if country_name == 'USA' or 'UNITED STATES' in country_name or country_name in us_states:\n",
    "                country = 'USA'\n",
    "            elif 'UK' in country_name or 'UNITED KINGDOM' in country_name or country_name in uk_states:\n",
    "                country = 'UK'\n",
    "            elif country_name in canada_states:\n",
    "                country = 'CANADA'\n",
    "            else:\n",
    "                country = country_name\n",
    "        elif state:\n",
    "            if state in us_states:\n",
    "                country = 'USA'\n",
    "            elif state in uk_states:\n",
    "                country = 'UK'\n",
    "            elif state in canada_states:\n",
    "                country = 'CANADA'\n",
    "            else:\n",
    "                country = state\n",
    "        elif nationality:\n",
    "            if nationality == 'USA' or 'UNITED STATES' in nationality or nationality in us_states:\n",
    "                country = 'USA'\n",
    "            elif 'UK' in nationality or 'UNITED KINGDOM' in nationality or nationality in uk_states:\n",
    "                country = 'UK'\n",
    "            elif nationality in canada_states:\n",
    "                country = 'CANADA'\n",
    "            elif nationality == 'NOT PROVIDED' or nationality == 'STATELESS':\n",
    "                country = 'NA'\n",
    "            else:\n",
    "                country = nationality\n",
    "        else:\n",
    "            country = 'NA'\n",
    "\n",
    "        # Append assignor information to the list\n",
    "        assignors_info.append({\n",
    "            'party-name': remove_title(assignor_name, legal_entity_text),\n",
    "            'date-acknowledged': date_acknowledged,\n",
    "            'execution-date': execution_date,\n",
    "            'country': country,\n",
    "            'legal-entity-text': legal_entity_text\n",
    "        })\n",
    "\n",
    "    return assignors_info\n"
   ]
  },
  {
   "cell_type": "code",
   "execution_count": 26,
   "metadata": {
    "id": "Z_LXES9E7_Vx"
   },
   "outputs": [],
   "source": [
    "def extract_assignees_info(assignees_match):\n",
    "    assignees_info = []\n",
    "\n",
    "    # Define a dictionary mapping XML characters to their corresponding entities\n",
    "    xml_entities = {'&amp;': '&', '&lt;': '<', '&gt;': '>', '&quot;': '\"', '&apos;': \"'\"}\n",
    "\n",
    "    # Loop through each assignee section\n",
    "    for assignees_section in assignees_match:\n",
    "        # Regex for assignee sections\n",
    "        assignees_name_match = re.search(r'<person-or-organization-name>(.*?)</person-or-organization-name>', assignees_section)\n",
    "        legal_entity_text_match = re.search(r'<legal-entity-text>(.*?)</legal-entity-text>', assignees_section)\n",
    "        country_match = re.search(r'<country-name>(.*?)</country-name>', assignees_section, re.IGNORECASE)\n",
    "        state_match = re.search(r'<state>(.*?)</state>', assignees_section, re.IGNORECASE)\n",
    "        nationality_match = re.search(r'<nationality>(.*?)</nationality>', assignees_section, re.IGNORECASE)\n",
    "\n",
    "        # Extract assignee name\n",
    "        assignees_name = assignees_name_match.group(1).strip() if assignees_name_match else 'NA'\n",
    "\n",
    "        # Extract legal entity text\n",
    "        legal_entity_text = legal_entity_text_match.group(1).strip() if legal_entity_text_match else 'NA'\n",
    "\n",
    "        # Replace XML characters with their entities\n",
    "        for entity, char in xml_entities.items():\n",
    "            assignees_name = assignees_name.replace(entity, char)\n",
    "            legal_entity_text = legal_entity_text.replace(entity, char)\n",
    "\n",
    "        # Extract nationality and determine country\n",
    "        country_name = country_match.group(1).strip().upper() if country_match else None\n",
    "        state = state_match.group(1).strip().upper() if state_match else None\n",
    "        nationality = nationality_match.group(1).strip().upper() if nationality_match else None\n",
    "\n",
    "        # Infer country based on country_name, state, and/or nationality\n",
    "        if country_name:\n",
    "            if country_name == 'USA' or 'UNITED STATES' in country_name or country_name in us_states:\n",
    "                country = 'USA'\n",
    "            elif 'UK' in country_name or 'UNITED KINGDOM' in country_name or country_name in uk_states:\n",
    "                country = 'UK'\n",
    "            elif country_name in canada_states:\n",
    "                country = 'CANADA'\n",
    "            else:\n",
    "                country = country_name\n",
    "        elif state:\n",
    "            if state in us_states:\n",
    "                country = 'USA'\n",
    "            elif state in uk_states:\n",
    "                country = 'UK'\n",
    "            elif state in canada_states:\n",
    "                country = 'CANADA'\n",
    "            else:\n",
    "                country = state\n",
    "        elif nationality:\n",
    "            if nationality == 'USA' or 'UNITED STATES' in nationality or nationality in us_states:\n",
    "                country = 'USA'\n",
    "            elif 'UK' in nationality or 'UNITED KINGDOM' in nationality or nationality in uk_states:\n",
    "                country = 'UK'\n",
    "            elif nationality in canada_states:\n",
    "                country = 'CANADA'\n",
    "            elif nationality == 'NOT PROVIDED' or nationality == 'STATELESS':\n",
    "                country = 'NA'\n",
    "            else:\n",
    "                country = nationality\n",
    "        else:\n",
    "            country = 'NA'\n",
    "\n",
    "        # Append assignee information to the list\n",
    "        assignees_info.append({\n",
    "            'party-name': remove_title(assignees_name, legal_entity_text),\n",
    "            'country': country,\n",
    "            'legal-entity-text': legal_entity_text\n",
    "        })\n",
    "\n",
    "    return assignees_info\n"
   ]
  },
  {
   "cell_type": "markdown",
   "metadata": {
    "id": "JTgkhc_35Urr"
   },
   "source": [
    "-------------------------------------"
   ]
  },
  {
   "cell_type": "markdown",
   "metadata": {
    "id": "Lay03WZ4TduL"
   },
   "source": [
    "<div class=\"alert alert-block alert-info\">\n",
    "    \n",
    "#### **4.3.2. Extraction of Unique IDs & Remaining Assignment Entry Info** <a class=\"unique_id\" name=\"unique_id\"></a>"
   ]
  },
  {
   "cell_type": "markdown",
   "metadata": {
    "id": "97xKH26hjfzp"
   },
   "source": [
    "The function `extract_unique_id` is a crucial component in parsing trademark assignment data from the input file. Upon receiving the file path as input (using the `read_file_content` helper function specified earlier), it initializes an empty dictionary, `unique_ids`, to store unique identifiers and associated information extracted from the file. The function utilizes the `extract_assignment_entries` helper function to parse the content of the file, identifying individual assignment entries encapsulated within the `<assignment-entry>` tags. These entries serve as the basis for further processing, enabling the extraction of detailed information about each assignment record.\n",
    "\n",
    "<br>\n",
    "\n",
    "Iterating over each assignment entry with a for loop, the function employs various regular expressions to extract specific attributes such as reel number, frame number, last update date, conveyance text, correspondent information, assignors, assignees, and property details. For the attributes reel number, frame number, update date, conveyance text and correspondent, `re.search` is used to search for the text enclosed within the respective attribute tags for each current assignment entry. For instance, `re.search(r'<reel-no>(.*?)</reel-no>', entry)` searches for any text enclosed within the `<reel-no>` and `</reel-no>` tags before storing it in the `reel_no_match` variable. Meanwhile, for assignors, assignees, and properties, `re.findall` is used to find all occurrences of text enclosed within the respective attribute tags (e.g. `<assignor>` and `</assignor>` tags) for each current entry. The matched text is then stored in a variable (e.g. `assignors_match`) as a list.\n",
    "\n",
    "![image.png](data:image/png;base64,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)\n",
    "\n",
    "<br>\n",
    "\n",
    "Upon successfully matching the required attributes within an assignment entry, the function formats and stores this information within the `unique_ids` dictionary. It verifies the presence of essential attributes like reel number and frame number using conditions such as `if reel_no_match` and `frame_no_match`. If these attributes are found, their respective values are extracted from the matched groups and stripped of any leading or trailing whitespace to ensure clean data. Similarly, the last update date attribute is extracted and formatted into a standard date format (YYYY-MM-DD) for uniformity. This is achieved by slicing the string obtained from the match using `update_date_str[:4]` for the year, `update_date_str[4:6]` for the month, and `update_date_str[6:]` for the day.\n",
    "\n",
    "<br>\n",
    "\n",
    "Furthermore, the function handles cases where certain attributes, such as conveyance text and correspondent information (more specifically, correspondent name), may contain special XML characters or be missing from the assignment entry. For instance, the function checks for the presence of `conveyance_text_match` and `correspondent_match` to determine if conveyance text and correspondent party information are available, respectively. If these matches are found, the corresponding values are extracted and stripped of any leading or trailing whitespace, with any XML character entities like `&amp;` replaced with their corresponding characters ('&') through utilization of an initialized dictionary (`xml_entities`) which maps each character to its entity, similar to what we did before with assignors and assignees. In cases where these attributes are absent, default values such as 'NA' are assigned to maintain consistency and completeness within the dataset.\n",
    "\n",
    "<br>\n",
    "\n",
    "After processing and formatting the main attributes, the function constructs a unique identifier (`unique_id`) for each assignment entry by concatenating the reel number and frame number obtained earlier, ensuring a distinct numerical ID for each trademark assignment entry. Subsequently, it creates a dictionary entry within the `unique_ids` dictionary using `unique_id` as the key and includes key-value pairs for each extracted attribute. These attributes are organized in a structured format, facilitating easy retrieval and analysis of assignment information based on the unique identifier.\n",
    "\n",
    "<br>\n",
    "\n",
    "The function then proceeds to extract additional information regarding assignors and assignees using the `extract_assignors_info` and `extract_assignees_info` helper functions  respectively. Once the assignor and assignee information is extracted and organized, it is associated with the corresponding unique identifier within the `unique_ids` dictionary. Lastly, the function calculates the count of properties associated with each assignment entry by determining the length of the `properties_match` list. This count is converted to a string and stored in the `unique_ids` dictionary under the key `property-count`.\n",
    "\n",
    "<br>\n",
    "\n",
    "Once all assignment entries are processed, this dictionary is returned, containing key attributes organized into a structured format."
   ]
  },
  {
   "cell_type": "code",
   "execution_count": 27,
   "metadata": {
    "colab": {
     "base_uri": "https://localhost:8080/"
    },
    "id": "kwH5Mm84uJTc",
    "outputId": "74a6da6d-fa47-42e6-d50d-cb8d7f6179e1"
   },
   "outputs": [
    {
     "name": "stdout",
     "output_type": "stream",
     "text": [
      "31680109 {'last-update-date': '2005-10-03', 'conveyance-text': 'ASSIGNS THE ENTIRE INTEREST', 'correspondent-party': 'ROBERT W. HOKE', 'assignors-info': [{'party-name': 'GLENMAC INC.', 'date-acknowledged': 'NA', 'execution-date': '2005-09-30', 'country': 'USA', 'legal-entity-text': 'CORPORATION'}], 'assignees-info': [{'party-name': 'HARLEY ATTACHMENTS, LLC', 'country': 'USA', 'legal-entity-text': 'LIMITED LIABILITY COMPANY'}], 'property-count': '3'}\n",
      "63180610 {'last-update-date': '2018-05-03', 'conveyance-text': 'CHANGE OF NAME', 'correspondent-party': 'HARTING STIFTUNG & CO. KG', 'assignors-info': [{'party-name': 'HARTING AG & CO. KG', 'date-acknowledged': 'NA', 'execution-date': '2018-03-12', 'country': 'NA', 'legal-entity-text': 'UNKNOWN'}], 'assignees-info': [{'party-name': 'HARTING STIFTUNG & CO. KG', 'country': 'GERMANY', 'legal-entity-text': 'UNKNOWN'}], 'property-count': '1'}\n",
      "65710069 {'last-update-date': '2019-02-25', 'conveyance-text': 'CHANGE OF NAME', 'correspondent-party': 'CAROLINE E. BRYCE', 'assignors-info': [{'party-name': 'TELOIP INC.', 'date-acknowledged': 'NA', 'execution-date': '2019-01-30', 'country': 'CANADA', 'legal-entity-text': 'CORPORATION'}], 'assignees-info': [{'party-name': 'ADAPTIV NETWORKS INC.', 'country': 'CANADA', 'legal-entity-text': 'CORPORATION'}], 'property-count': '2'}\n",
      "27260087 {'last-update-date': '2003-10-06', 'conveyance-text': 'CHANGE OF NAME', 'correspondent-party': 'MICHELLE V. FRANCIS', 'assignors-info': [{'party-name': 'ACTMEDIA, INC.', 'date-acknowledged': 'NA', 'execution-date': '1998-06-30', 'country': 'USA', 'legal-entity-text': 'CORPORATION'}], 'assignees-info': [{'party-name': 'NEWS AMERICA MARKETING IN-STORE, INC.', 'country': 'USA', 'legal-entity-text': 'CORPORATION'}], 'property-count': '1'}\n",
      "41060788 {'last-update-date': '2009-12-03', 'conveyance-text': 'BANKRUPTCY COURT ORDER RELEASING ALL LIENS, INCLUDING THE SECURITY INTEREST RECORDED AT REEL/FRAME 3477/0271', 'correspondent-party': 'RENEE PRESCAN', 'assignors-info': [{'party-name': 'DEUTSCHE BANK AG, NEW YORK BRANCH, AS COLLATERAL AGENT', 'date-acknowledged': 'NA', 'execution-date': '2009-08-19', 'country': 'GERMANY', 'legal-entity-text': 'CORPORATION'}], 'assignees-info': [{'party-name': 'METALDYNE, LLC', 'country': 'USA', 'legal-entity-text': 'LIMITED LIABILITY COMPANY'}], 'property-count': '1'}\n"
     ]
    }
   ],
   "source": [
    "def extract_unique_id(file_path):\n",
    "    unique_ids = {}\n",
    "\n",
    "    # Define a dictionary mapping XML characters to their corresponding entities\n",
    "    xml_entities = {'&amp;': '&', '&lt;': '<', '&gt;': '>', '&quot;': '\"', '&apos;': \"'\"}\n",
    "\n",
    "    # Read content from file\n",
    "    content = read_file_content(file_path)\n",
    "\n",
    "    # Extract assignment entries from the content\n",
    "    assignment_entries = extract_assignment_entries(content)\n",
    "\n",
    "    # Loop through each assignment entry\n",
    "    for entry in assignment_entries:\n",
    "        reel_no_match = re.search(r'<reel-no>(.*?)</reel-no>', entry)\n",
    "        frame_no_match = re.search(r'<frame-no>(.*?)</frame-no>', entry)\n",
    "        update_date_match = re.search(r'<last-update-date>(.*?)</last-update-date>', entry)\n",
    "        conveyance_text_match = re.search(r'<conveyance-text>(.*?)</conveyance-text>', entry)\n",
    "        correspondent_match = re.search(r'<correspondent>.*?<person-or-organization-name>(.*?)</person-or-organization-name>', entry, re.DOTALL)\n",
    "        assignors_match = re.findall(r'<assignor>(.*?)</assignor>', entry, re.DOTALL)\n",
    "        assignees_match = re.findall(r'<assignee>(.*?)</assignee>', entry, re.DOTALL)\n",
    "        properties_match = re.findall(r'<property>(.*?)</property>', entry, re.DOTALL)\n",
    "\n",
    "        # Extract reel number and frame number\n",
    "        if reel_no_match and frame_no_match:\n",
    "            reel_no = reel_no_match.group(1).strip()\n",
    "            frame_no = frame_no_match.group(1).strip()\n",
    "            update_date_str = update_date_match.group(1).strip()\n",
    "\n",
    "            # Format update date\n",
    "            if update_date_str:\n",
    "                update_date = f\"{update_date_str[:4]}-{update_date_str[4:6]}-{update_date_str[6:]}\"\n",
    "            else:\n",
    "                update_date = 'NA'\n",
    "\n",
    "            # Extract conveyance text\n",
    "            if conveyance_text_match:\n",
    "                conveyance_text = conveyance_text_match.group(1).strip()\n",
    "            else:\n",
    "                conveyance_text = 'NA'\n",
    "\n",
    "            # Extract correspondent party\n",
    "            if correspondent_match:\n",
    "                correspondent_party = correspondent_match.group(1).strip()\n",
    "            else:\n",
    "                correspondent_party = 'NA'\n",
    "\n",
    "            # Replace XML characters with their entities\n",
    "            for entity, char in xml_entities.items():\n",
    "                conveyance_text = conveyance_text.replace(entity, char)\n",
    "                correspondent_party = correspondent_party.replace(entity, char)\n",
    "\n",
    "            # Generate unique ID\n",
    "            unique_id = f\"{reel_no}{frame_no}\"\n",
    "\n",
    "            # Store information in the unique_ids dictionary\n",
    "            unique_ids[unique_id] = {\n",
    "                'last-update-date': update_date,\n",
    "                'conveyance-text': conveyance_text,\n",
    "                'correspondent-party': correspondent_party\n",
    "            }\n",
    "\n",
    "             # Extract and store assignors and assignees information\n",
    "            assignors_info = extract_assignors_info(assignors_match)\n",
    "            assignees_info = extract_assignees_info(assignees_match)\n",
    "\n",
    "            unique_ids[unique_id]['assignors-info'] = assignors_info\n",
    "            unique_ids[unique_id]['assignees-info'] = assignees_info\n",
    "\n",
    "            # Count properties\n",
    "            unique_ids[unique_id]['property-count'] = str(len(properties_match))\n",
    "\n",
    "    return unique_ids\n",
    "\n",
    "\n",
    "# Call the function and store the result\n",
    "file_path = '/content/drive/Shareddrives/FIT5196_S1_2024/A1/Students data/Task 1/Group055.txt'\n",
    "result = extract_unique_id(file_path)\n",
    "\n",
    "# Initialize a counter to track the number of printed elements\n",
    "printed_count = 0\n",
    "\n",
    "# Print the first five elements\n",
    "for key, value in result.items():\n",
    "    print(key, value)\n",
    "    printed_count += 1\n",
    "    if printed_count == 5:\n",
    "        break\n"
   ]
  },
  {
   "cell_type": "markdown",
   "metadata": {
    "id": "dRRffxX85rGR"
   },
   "source": [
    "-------------------------------------"
   ]
  },
  {
   "cell_type": "markdown",
   "metadata": {
    "id": "uO1_aGbUTiBj"
   },
   "source": [
    "<div class=\"alert alert-block alert-info\">\n",
    "    \n",
    "#### **4.3.3. Application to Input File** <a class=\"anchor\" name=\"apply\"></a>"
   ]
  },
  {
   "cell_type": "markdown",
   "metadata": {
    "id": "vMHWkJuEx4fk"
   },
   "source": [
    "The next step involves applying the `extract_unique_id` function to a specific file. By invoking the `extract_unique_id` function with the file path specified for our group, this initiates the process of parsing and organizing the trademark assignment entry data contained within the file.\n",
    "\n",
    "<br>\n",
    "\n",
    "This step is essential for transforming the raw assignment data into a structured format. Upon completion, the `unique_ids` variable holds the extracted information, structured into a dictionary format containing unique identifiers and associated assignment details.\n"
   ]
  },
  {
   "cell_type": "code",
   "execution_count": 28,
   "metadata": {
    "id": "0uACViHkuNGo"
   },
   "outputs": [],
   "source": [
    "\n",
    "file_path = '/content/drive/Shareddrives/FIT5196_S1_2024/A1/Students data/Task 1/Group055.txt'\n",
    "unique_ids = extract_unique_id(file_path)\n"
   ]
  },
  {
   "cell_type": "markdown",
   "metadata": {
    "id": "PmLn6Pr15tDS"
   },
   "source": [
    "-------------------------------------"
   ]
  },
  {
   "cell_type": "markdown",
   "metadata": {
    "collapsed": true,
    "id": "KVwmp1LfiqLE"
   },
   "source": [
    "<div class=\"alert alert-block alert-warning\">\n",
    "\n",
    "## **5. Writing to JSON File** <a class=\"anchor\" name=\"write\"></a>\n",
    "\n",
    "</div>"
   ]
  },
  {
   "cell_type": "markdown",
   "metadata": {
    "collapsed": true,
    "id": "3XcaJBATiqLE"
   },
   "source": [
    "<div class=\"alert alert-block alert-info\">\n",
    "    \n",
    "### **5.1. Saving Extracted Data to JSON File** <a class=\"anchor\" name=\"save\"></a>"
   ]
  },
  {
   "cell_type": "markdown",
   "metadata": {
    "id": "jEg_xQdXiqLF"
   },
   "source": [
    "After extracting and organizing the trademark assignment data into a structured dictionary format, the final step involves saving the data to a JSON file.\n",
    "\n",
    "<br>\n",
    "\n",
    "The `save_to_json` function facilitates this process by taking a single parameter: the data to be saved. In this case, the `unique_ids` dictionary containing the extracted assignment information is passed as the data parameter.\n",
    "\n",
    "<br>\n",
    "\n",
    "The function opens the specified file path in write mode ('w') with UTF-8 encoding to ensure compatibility with various character sets. It then uses the `json.dump` method to write the structured data (`unique_ids`) into the opened file. The `indent` parameter is set to 4 to format the JSON file with indentation for improved readability. Additionally, `ensure_ascii` is set to False to allow non-ASCII characters (such as SOCIÉTÉ) to be properly encoded in the JSON file.\n",
    "\n",
    "<br>\n",
    "\n",
    "Once the data is successfully written to the JSON file, the `files.download()` function from the `google.colab` library is invoked to download the file."
   ]
  },
  {
   "cell_type": "code",
   "execution_count": 29,
   "metadata": {
    "colab": {
     "base_uri": "https://localhost:8080/",
     "height": 17
    },
    "id": "oGoXLxjQ7EiV",
    "outputId": "56fae5a4-4dd8-4d23-c41e-235208bb9c76"
   },
   "outputs": [
    {
     "data": {
      "application/javascript": [
       "\n",
       "    async function download(id, filename, size) {\n",
       "      if (!google.colab.kernel.accessAllowed) {\n",
       "        return;\n",
       "      }\n",
       "      const div = document.createElement('div');\n",
       "      const label = document.createElement('label');\n",
       "      label.textContent = `Downloading \"${filename}\": `;\n",
       "      div.appendChild(label);\n",
       "      const progress = document.createElement('progress');\n",
       "      progress.max = size;\n",
       "      div.appendChild(progress);\n",
       "      document.body.appendChild(div);\n",
       "\n",
       "      const buffers = [];\n",
       "      let downloaded = 0;\n",
       "\n",
       "      const channel = await google.colab.kernel.comms.open(id);\n",
       "      // Send a message to notify the kernel that we're ready.\n",
       "      channel.send({})\n",
       "\n",
       "      for await (const message of channel.messages) {\n",
       "        // Send a message to notify the kernel that we're ready.\n",
       "        channel.send({})\n",
       "        if (message.buffers) {\n",
       "          for (const buffer of message.buffers) {\n",
       "            buffers.push(buffer);\n",
       "            downloaded += buffer.byteLength;\n",
       "            progress.value = downloaded;\n",
       "          }\n",
       "        }\n",
       "      }\n",
       "      const blob = new Blob(buffers, {type: 'application/binary'});\n",
       "      const a = document.createElement('a');\n",
       "      a.href = window.URL.createObjectURL(blob);\n",
       "      a.download = filename;\n",
       "      div.appendChild(a);\n",
       "      a.click();\n",
       "      div.remove();\n",
       "    }\n",
       "  "
      ],
      "text/plain": [
       "<IPython.core.display.Javascript object>"
      ]
     },
     "metadata": {},
     "output_type": "display_data"
    },
    {
     "data": {
      "application/javascript": [
       "download(\"download_9cb3638a-28a3-4aa3-9c12-fabc14552717\", \"task1_55.json\", 4623367)"
      ],
      "text/plain": [
       "<IPython.core.display.Javascript object>"
      ]
     },
     "metadata": {},
     "output_type": "display_data"
    }
   ],
   "source": [
    "from google.colab import files\n",
    "\n",
    "def save_to_json(data):\n",
    "    file_path = 'task1_055.json'\n",
    "    with open(file_path, 'w', encoding='utf-8') as output_file:\n",
    "        json.dump(data, output_file, indent=4, ensure_ascii=False)\n",
    "\n",
    "    files.download(file_path)\n",
    "\n",
    "save_to_json(unique_ids)\n"
   ]
  },
  {
   "cell_type": "markdown",
   "metadata": {
    "id": "dkNHEKda5y5C"
   },
   "source": [
    "-------------------------------------"
   ]
  },
  {
   "cell_type": "markdown",
   "metadata": {
    "id": "4kpIZdGrzuRW"
   },
   "source": [
    "<div class=\"alert alert-block alert-info\">\n",
    "    \n",
    "### **5.2. Verification of the Generated JSON File** <a class=\"anchor\" name=\"test_xml\"></a>"
   ]
  },
  {
   "cell_type": "markdown",
   "metadata": {
    "id": "Y-NA7RNg0Cjn"
   },
   "source": [
    "In the verification process of the generated JSON file, we employed two widely used text editors, Notepad++ and VS Code, to compare the content of the input file with that of the output JSON file. This visual inspection allowed us to ensure that the data extraction and conversion to JSON format were performed accurately.\n",
    "\n",
    "<br>\n",
    "\n",
    "Furthermore, to quantitatively validate the integrity of the extracted data, we implemented a `count_assignment_entries` function (shown in [8.1. Counting Extracted Assignment Entries](#count)) to count the number of assignment entries in both the original input file and the generated JSON file. The comparison revealed that the number of assignment entries remained consistent before and after extraction, with a total count of 6011 entries, indicating successful data extraction and preservation.\n",
    "\n",
    "<br>\n",
    "\n",
    "In addition, we conducted further verification by extracting and examining the unique countries associated with both assignors and assignees [as seen in [8.2. Extracting Unique Countries (Assignors)](#assignor_countries) and [8.3. Extracting Unique Countries (Assignors)](#assignee_countries)]. This step was crucial in ensuring the accurate identification of countries for each party involved in the trademark assignment entries.\n",
    "\n",
    "<br>\n",
    "\n",
    "For assignors, we utilized an `extract_unique_assignor_countries` function to extract the unique countries from the assignors' information contained within the extracted data. Similarly, for assignees, a separate `extract_unique_assignee_countries` function was employed to extract the unique countries associated with the assignees. The absence of states corresponding to the United States (US), United Kingdom (UK), and Canada in the extracted countries reaffirmed the accuracy of the country identification process."
   ]
  },
  {
   "cell_type": "markdown",
   "metadata": {
    "id": "SkycOfPo5J3v"
   },
   "source": [
    "-------------------------------------"
   ]
  },
  {
   "cell_type": "markdown",
   "metadata": {
    "id": "cO8vwKqkiqLF"
   },
   "source": [
    "<div class=\"alert alert-block alert-warning\">\n",
    "\n",
    "## **6. Summary** <a class=\"anchor\" name=\"summary\"></a>\n",
    "\n",
    "</div>"
   ]
  },
  {
   "cell_type": "markdown",
   "metadata": {
    "id": "4QdX7ozQiqLF"
   },
   "source": [
    "In conclusion, effective preparation of trademark assignment data relies on thorough loading and parsing of files, along with standardizing party names and country identifiers.\n",
    "\n",
    "<br>\n",
    "\n",
    "1. Starting with the basic steps, we access and structure the raw data using functions like `read_file_content()` and `extract_assignment_entries()`.\n",
    "2. Next, we focus on standardizing party names and identifying country locations using regular expressions and predefined lists of states.\n",
    "3. With the data organized, we then process trademark assignment entries using functions such as `extract_assignors_info()` and `extract_assignees_info()` (for extracting information related to assignor and assignee) as well as `extract_unique_id` to parse and standardize data.\n",
    "\n",
    "Applying these functions to the input file is essential, as it transforms raw data into a structured format, ready for analysis.\n",
    "\n",
    "<br>\n",
    "\n",
    "4. Finally, the extracted data is saved to a JSON file using the `save_to_json()` function, ensuring its preservation and accessibility for future reference.\n",
    "\n",
    "\n",
    "In essence, through thorough loading, parsing, processing, and storage, trademark assignment data is transformed into a structured and accessible JSON format."
   ]
  },
  {
   "cell_type": "markdown",
   "metadata": {
    "id": "TnASfTmniqLF"
   },
   "source": [
    "-------------------------------------"
   ]
  },
  {
   "cell_type": "markdown",
   "metadata": {
    "id": "Li7bchX9iqLF"
   },
   "source": [
    "<div class=\"alert alert-block alert-warning\">\n",
    "\n",
    "## **7. References** <a class=\"anchor\" name=\"Ref\"></a>\n",
    "\n",
    "</div>"
   ]
  },
  {
   "cell_type": "markdown",
   "metadata": {
    "id": "TkWuWC3NiqLF"
   },
   "source": [
    "[1]<a class=\"anchor\" name=\"ref-1\"></a> Python regular expressions - re.search() vs re.findall(), https://stackoverflow.com/questions/9000960/python-regular-expressions-re-search-vs-re-findall, Accessed 22/03/2024.\n",
    "\n",
    "<br>\n",
    "\n",
    "\n",
    "[2]<a class=\"anchor\" name=\"ref-2\"></a> Python Regex Sub - Use Match as Dict Key in Substitution, https://stackoverflow.com/questions/22545114/python-regex-sub-use-match-as-dict-key-in-substitution, Accessed 27/03/2024.\n",
    "\n",
    "\n",
    "<br>\n",
    "\n",
    "[3]<a class=\"anchor\" name=\"ref-3\"></a> How do I write JSON data to a file? https://stackoverflow.com/questions/12309269/how-do-i-write-json-data-to-a-file, Accessed 09/04/2024.\n",
    "\n",
    "<br>\n",
    "\n",
    "[4]<a class=\"anchor\" name=\"ref-4\"></a> What characters do I need to escape in XML documents? https://stackoverflow.com/questions/1091945/what-characters-do-i-need-to-escape-in-xml-documents, Accessed 11/04/2024.\n"
   ]
  },
  {
   "cell_type": "markdown",
   "metadata": {
    "id": "dVyuz4LciqLG"
   },
   "source": [
    "## --------------------------------------------------------------------------------------------------------------------------"
   ]
  },
  {
   "cell_type": "markdown",
   "metadata": {
    "id": "iT6fx0xT5kUj"
   },
   "source": [
    "<div class=\"alert alert-block alert-warning\">\n",
    "\n",
    "## **8. Appendix** <a class=\"anchor\" name=\"appendix\"></a>\n",
    "\n",
    "</div>"
   ]
  },
  {
   "cell_type": "markdown",
   "metadata": {
    "id": "REFixZh4JgM-"
   },
   "source": [
    "<div class=\"alert alert-block alert-info\">\n",
    "    \n",
    "### **8.1. Counting Extracted Assignment Entries** <a class=\"anchor\" name=\"count\"></a>"
   ]
  },
  {
   "cell_type": "code",
   "execution_count": 30,
   "metadata": {
    "colab": {
     "base_uri": "https://localhost:8080/"
    },
    "id": "eJuSGL9A5px1",
    "outputId": "23ca1fdc-2018-4bb4-e422-b99cb058d153"
   },
   "outputs": [
    {
     "name": "stdout",
     "output_type": "stream",
     "text": [
      "Number of assignment entries before extraction: 6011\n",
      "Number of unique IDs after extraction: 6011\n"
     ]
    }
   ],
   "source": [
    "def count_assignment_entries(file_path):\n",
    "    with open(file_path, 'r') as file:\n",
    "        # Read the content of the file\n",
    "        content = file.read()\n",
    "\n",
    "        # Use regex to find all assignment entries\n",
    "        assignment_entries = re.findall(r'<assignment-entry>', content)\n",
    "\n",
    "        # Count the number of assignment entries\n",
    "        count = len(assignment_entries)\n",
    "\n",
    "    return count\n",
    "\n",
    "# Example usage:\n",
    "original_file_path = '/content/drive/Shareddrives/FIT5196_S1_2024/A1/Students data/Task 1/Group055.txt'\n",
    "\n",
    "# Count the number of assignment entries before extraction\n",
    "before_extraction_count = count_assignment_entries(original_file_path)\n",
    "print(\"Number of assignment entries before extraction:\", before_extraction_count)\n",
    "\n",
    "# Extract the unique IDs\n",
    "unique_ids = extract_unique_id(original_file_path)\n",
    "\n",
    "# Count the number of unique IDs after extraction\n",
    "after_extraction_count = len(unique_ids)\n",
    "print(\"Number of unique IDs after extraction:\", after_extraction_count)\n"
   ]
  },
  {
   "cell_type": "markdown",
   "metadata": {
    "id": "crCrFXE1JaZn"
   },
   "source": [
    "<div class=\"alert alert-block alert-info\">\n",
    "    \n",
    "### **8.2. Extracting Unique Countries (Assignors)** <a class=\"anchor\" name=\"assignor_countries\"></a>"
   ]
  },
  {
   "cell_type": "code",
   "execution_count": 31,
   "metadata": {
    "colab": {
     "base_uri": "https://localhost:8080/"
    },
    "id": "q5wxYFFkJZrF",
    "outputId": "ad668fb8-9e0c-4ed3-cf5a-267fc177ca55"
   },
   "outputs": [
    {
     "name": "stdout",
     "output_type": "stream",
     "text": [
      "Unique Assignor Countries:\n",
      "PUERTO RICO\n",
      "POLAND\n",
      "RUSSIAN FEDERATION\n",
      "AUSTRIA\n",
      "MEXICO\n",
      "GABON\n",
      "PHILIPPINES\n",
      "LIECHTENSTEIN\n",
      "INDIA\n",
      "JERSEY\n",
      "JAPAN\n",
      "BULGARIA\n",
      "FRANCE\n",
      "SINGAPORE\n",
      "DENMARK\n",
      "HONDURAS\n",
      "ISRAEL\n",
      "NA\n",
      "GERMANY\n",
      "VENEZUELA\n",
      "IRELAND\n",
      "TURKEY\n",
      "VIRGIN ISLANDS, BRITISH\n",
      "NEW ZEALAND\n",
      "MONACO\n",
      "CAYMAN ISLANDS\n",
      "KOREA, REPUBLIC OF\n",
      "LUXEMBOURG\n",
      "BELGIUM\n",
      "SWITZERLAND\n",
      "CANADA\n",
      "CHILE\n",
      "JORDAN\n",
      "HUNGARY\n",
      "CYPRUS\n",
      "THAILAND\n",
      "BAHAMAS\n",
      "ROMANIA\n",
      "COSTA RICA\n",
      "SPAIN\n",
      "UK\n",
      "PANAMA\n",
      "ITALY\n",
      "NETHERLANDS\n",
      "USA\n",
      "MALTA\n",
      "ANTIGUA AND BARBUDA\n",
      "SOUTH AFRICA\n",
      "TURKS AND CAICOS ISLANDS\n",
      "FINLAND\n",
      "NETHERLANDS ANTILLES\n",
      "AUSTRALIA\n",
      "CHINA\n",
      "SWEDEN\n",
      "BRAZIL\n",
      "TRINIDAD AND TOBAGO\n",
      "BARBADOS\n",
      "NORWAY\n",
      "UNITED ARAB EMIRATES\n"
     ]
    }
   ],
   "source": [
    "def extract_unique_assignor_countries(unique_ids):\n",
    "    unique_countries = set()\n",
    "\n",
    "    for unique_id, data in unique_ids.items():\n",
    "        assignors_info = data.get('assignors-info', [])\n",
    "\n",
    "        for assignor in assignors_info:\n",
    "            country = assignor.get('country')\n",
    "            if country:\n",
    "                unique_countries.add(country)\n",
    "\n",
    "    return unique_countries\n",
    "\n",
    "# Assuming unique_ids is already populated\n",
    "unique_countries = extract_unique_assignor_countries(unique_ids)\n",
    "\n",
    "print(\"Unique Assignor Countries:\")\n",
    "for country in unique_countries:\n",
    "    print(country)\n"
   ]
  },
  {
   "cell_type": "markdown",
   "metadata": {
    "id": "VIpkha6IDmP4"
   },
   "source": [
    "<div class=\"alert alert-block alert-info\">\n",
    "    \n",
    "### **8.3. Extracting Unique Countries (Assignees)** <a class=\"anchor\" name=\"assignee_countries\"></a>"
   ]
  },
  {
   "cell_type": "code",
   "execution_count": 32,
   "metadata": {
    "colab": {
     "base_uri": "https://localhost:8080/"
    },
    "id": "4IZfh9WVDmh4",
    "outputId": "cee25c95-d1fc-4608-be46-836983bb1247"
   },
   "outputs": [
    {
     "name": "stdout",
     "output_type": "stream",
     "text": [
      "Unique Assignee Countries:\n",
      "PUERTO RICO\n",
      "POLAND\n",
      "RUSSIAN FEDERATION\n",
      "AUSTRIA\n",
      "MEXICO\n",
      "ALBANIA\n",
      "LIECHTENSTEIN\n",
      "INDIA\n",
      "JAPAN\n",
      "BULGARIA\n",
      "FRANCE\n",
      "SINGAPORE\n",
      "DENMARK\n",
      "URUGUAY\n",
      "MALAYSIA\n",
      "ISRAEL\n",
      "GERMANY\n",
      "NA\n",
      "IRELAND\n",
      "TURKEY\n",
      "VIRGIN ISLANDS, BRITISH\n",
      "NEW ZEALAND\n",
      "BELIZE\n",
      "CAYMAN ISLANDS\n",
      "GREECE\n",
      "KOREA, REPUBLIC OF\n",
      "CROATIA\n",
      "LUXEMBOURG\n",
      "BELGIUM\n",
      "CZECH REPUBLIC\n",
      "SWITZERLAND\n",
      "CANADA\n",
      "CHILE\n",
      "JORDAN\n",
      "HUNGARY\n",
      "CYPRUS\n",
      "BERMUDA\n",
      "THAILAND\n",
      "DOMINICA\n",
      "BAHAMAS\n",
      "PORTUGAL\n",
      "ROMANIA\n",
      "SPAIN\n",
      "UK\n",
      "CHANNEL ISLANDS\n",
      "ITALY\n",
      "PANAMA\n",
      "NETHERLANDS\n",
      "USA\n",
      "MALTA\n",
      "SERBIA\n",
      "SOUTH AFRICA\n",
      "ANTIGUA AND BARBUDA\n",
      "ESTONIA\n",
      "ARGENTINA\n",
      "FINLAND\n",
      "NETHERLANDS ANTILLES\n",
      "AUSTRALIA\n",
      "CHINA\n",
      "BRAZIL\n",
      "SWEDEN\n",
      "BARBADOS\n",
      "BELARUS\n",
      "GIBRALTAR\n",
      "NORWAY\n",
      "UNITED ARAB EMIRATES\n",
      "GUATEMALA\n"
     ]
    }
   ],
   "source": [
    "def extract_unique_assignee_countries(unique_ids):\n",
    "    unique_countries = set()\n",
    "\n",
    "    for unique_id, data in unique_ids.items():\n",
    "        assignees_info = data.get('assignees-info', [])\n",
    "\n",
    "        for assignee in assignees_info:\n",
    "            country = assignee.get('country')\n",
    "            if country:\n",
    "                unique_countries.add(country)\n",
    "\n",
    "    return unique_countries\n",
    "\n",
    "# Assuming unique_ids is already populated\n",
    "unique_countries = extract_unique_assignee_countries(unique_ids)\n",
    "\n",
    "print(\"Unique Assignee Countries:\")\n",
    "for country in unique_countries:\n",
    "    print(country)\n"
   ]
  },
  {
   "cell_type": "markdown",
   "metadata": {
    "id": "AlZIR14zGrQt"
   },
   "source": [
    "## --------------------------------------------------------------------------------------------------------------------------"
   ]
  },
  {
   "cell_type": "markdown",
   "metadata": {
    "id": "FHmABz7mGsrJ"
   },
   "source": [
    "[My Workspace](https://colab.research.google.com/drive/15HZJdgqO7EETbS7c69833Cm4xRBJOP4T?usp=sharing)"
   ]
  }
 ],
 "metadata": {
  "colab": {
   "provenance": [],
   "toc_visible": true
  },
  "kernelspec": {
   "display_name": "Python 3 (ipykernel)",
   "language": "python",
   "name": "python3"
  },
  "language_info": {
   "codemirror_mode": {
    "name": "ipython",
    "version": 3
   },
   "file_extension": ".py",
   "mimetype": "text/x-python",
   "name": "python",
   "nbconvert_exporter": "python",
   "pygments_lexer": "ipython3",
   "version": "3.9.13"
  },
  "toc": {
   "base_numbering": 1,
   "nav_menu": {},
   "number_sections": true,
   "sideBar": true,
   "skip_h1_title": false,
   "title_cell": "Table of Contents",
   "title_sidebar": "Contents",
   "toc_cell": false,
   "toc_position": {},
   "toc_section_display": true,
   "toc_window_display": false
  }
 },
 "nbformat": 4,
 "nbformat_minor": 1
}
